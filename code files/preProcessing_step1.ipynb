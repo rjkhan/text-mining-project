{
 "cells": [
  {
   "cell_type": "markdown",
   "metadata": {},
   "source": [
    "# Read a data from csv\n"
   ]
  },
  {
   "cell_type": "code",
   "execution_count": 6,
   "metadata": {},
   "outputs": [
    {
     "data": {
      "text/plain": [
       "(79996, 12)"
      ]
     },
     "execution_count": 6,
     "metadata": {},
     "output_type": "execute_result"
    }
   ],
   "source": [
    "import csv\n",
    "import pandas as pd\n",
    "import numpy as np\n",
    "import string\n",
    "import nltk\n",
    "from nltk.corpus import stopwords\n",
    "from nltk.tokenize import sent_tokenize, word_tokenize\n",
    "import matplotlib.pyplot as plt\n",
    "from nltk.stem import PorterStemmer\n",
    "import re\n",
    "import warnings\n",
    "\n",
    "warnings.filterwarnings(\"ignore\")\n",
    "\n",
    "df = pd.read_csv(\"/Users/rabnawazjansher/Documents/textMiningProjects/fn/data/newdata.csv\")\n",
    "data = df\n",
    "data = data.dropna() \n",
    "data.shape"
   ]
  },
  {
   "cell_type": "markdown",
   "metadata": {},
   "source": [
    "# Data Preprocessing and cleaning"
   ]
  },
  {
   "cell_type": "code",
   "execution_count": 7,
   "metadata": {},
   "outputs": [],
   "source": [
    "stop_words = set(stopwords.words('english'))\n",
    "def proPorcessing(text):\n",
    "    text = re.sub(\"[^A-Za-z]\", \" \",  str(text))\n",
    "    ## remove space\n",
    "    text = ' '.join(text.split())\n",
    "    ##lower text\n",
    "    return text\n",
    "\n",
    "\n",
    "pre_processed_data = []\n",
    "\n",
    "for i in data['Review_Text']:\n",
    "    pre_processed_data.append(proPorcessing(i))\n",
    "    \n",
    "data['clean_data'] = pre_processed_data\n",
    "\n",
    "\n",
    "label = []\n",
    "class_ = []\n",
    "\n",
    "\n",
    "for f in data['Rating']:\n",
    "    rating = f\n",
    "    if rating < 3:\n",
    "        label.append(\"Negative\")\n",
    "        class_.append(0)\n",
    "    else:\n",
    "        class_.append(1)\n",
    "        label.append(\"Positive\")\n",
    "        \n",
    "        \n",
    "data['label'] = label\n",
    "data['class_'] = class_"
   ]
  },
  {
   "cell_type": "markdown",
   "metadata": {},
   "source": [
    "# Actual class label Frequency"
   ]
  },
  {
   "cell_type": "code",
   "execution_count": 8,
   "metadata": {},
   "outputs": [
    {
     "data": {
      "image/png": "[encoded data removed]",
      "text/plain": [
       "<Figure size 360x288 with 1 Axes>"
      ]
     },
     "metadata": {
      "needs_background": "light"
     },
     "output_type": "display_data"
    }
   ],
   "source": [
    "import matplotlib.pyplot as plt\n",
    "\n",
    "\n",
    "fig = plt.figure(figsize= (5,4))\n",
    "\n",
    "data.groupby('label').Review_Text.count().plot.bar(ylim=0)\n",
    "plt.title('Actual Label Frequencey Distribution')\n",
    "plt.ylabel('count')\n",
    "\n",
    "\n",
    "plt.xticks(rotation='horizontal')\n",
    "plt.savefig('actual_label.png')"
   ]
  },
  {
   "cell_type": "code",
   "execution_count": null,
   "metadata": {},
   "outputs": [],
   "source": [
    "clean_data = data\n",
    "clean_data.to_csv('/Users/rabnawazjansher/Documents/textMiningProjects/fn/data/newdata.csv', index = False)"
   ]
  }
 ],
 "metadata": {
  "kernelspec": {
   "display_name": "Python 3",
   "language": "python",
   "name": "python3"
  },
  "language_info": {
   "codemirror_mode": {
    "name": "ipython",
    "version": 3
   },
   "file_extension": ".py",
   "mimetype": "text/x-python",
   "name": "python",
   "nbconvert_exporter": "python",
   "pygments_lexer": "ipython3",
   "version": "3.7.3"
  }
 },
 "nbformat": 4,
 "nbformat_minor": 2
}

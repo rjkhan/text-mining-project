{
 "cells": [
  {
   "cell_type": "code",
   "execution_count": 1,
   "metadata": {
    "hideCode": false,
    "hidePrompt": true
   },
   "outputs": [
    {
     "data": {
      "text/plain": [
       "(79996, 12)"
      ]
     },
     "execution_count": 1,
     "metadata": {},
     "output_type": "execute_result"
    }
   ],
   "source": [
    "import csv\n",
    "import pandas as pd\n",
    "import numpy as np\n",
    "import string\n",
    "import nltk\n",
    "from nltk.corpus import stopwords\n",
    "from nltk.tokenize import sent_tokenize, word_tokenize\n",
    "import matplotlib.pyplot as plt\n",
    "from nltk.stem import PorterStemmer\n",
    "import re\n",
    "import warnings\n",
    "\n",
    "warnings.filterwarnings(\"ignore\")\n",
    "\n",
    "df = pd.read_csv(\"/Users/rabnawazjansher/Documents/textMiningProjects/fn/data/newdata.csv\")\n",
    "data = df\n",
    "data = data.dropna() \n",
    "data.shape"
   ]
  },
  {
   "cell_type": "code",
   "execution_count": 2,
   "metadata": {
    "hideCode": false,
    "hidePrompt": true
   },
   "outputs": [
    {
     "data": {
      "image/png": "[encoded data removed]",
      "text/plain": [
       "<Figure size 360x288 with 1 Axes>"
      ]
     },
     "metadata": {
      "needs_background": "light"
     },
     "output_type": "display_data"
    }
   ],
   "source": [
    "import matplotlib.pyplot as plt\n",
    "\n",
    "\n",
    "fig = plt.figure(figsize= (5,4))\n",
    "\n",
    "data.groupby('label').Review_Text.count().plot.bar(ylim=0)\n",
    "plt.title('Actual Label Frequencey Distribution')\n",
    "plt.ylabel('count')\n",
    "\n",
    "\n",
    "plt.xticks(rotation='horizontal')\n",
    "plt.savefig('actual_label.png')"
   ]
  },
  {
   "cell_type": "markdown",
   "metadata": {
    "hideCode": true,
    "hidePrompt": true
   },
   "source": [
    "# Multinomial Naive Bayes\n"
   ]
  },
  {
   "cell_type": "code",
   "execution_count": 3,
   "metadata": {
    "hideCode": false,
    "hidePrompt": true
   },
   "outputs": [
    {
     "name": "stdout",
     "output_type": "stream",
     "text": [
      "(55924, 12)\n",
      "(24072, 12)\n"
     ]
    }
   ],
   "source": [
    "from sklearn.model_selection import train_test_split\n",
    "from sklearn.naive_bayes import MultinomialNB\n",
    "from sklearn.feature_extraction.text import TfidfTransformer, CountVectorizer\n",
    "\n",
    "stop_words = set(stopwords.words('english'))\n",
    "\n",
    "precesion = []\n",
    "accuracy = []\n",
    "recal = []\n",
    "f1 = []\n",
    "model = []\n",
    "\n",
    "\n",
    "## splitting data into test and train\n",
    "n = np.random.rand(len(data)) < 0.70\n",
    "\n",
    "## setting predictor and response variables\n",
    "train = data[n]\n",
    "test = data[~n]\n",
    "\n",
    "X_train = train.clean_data\n",
    "y_train = train.label\n",
    "\n",
    "X_test = test.clean_data\n",
    "y_test = test.label\n",
    "\n",
    "\n",
    "\n",
    "vectorizer = CountVectorizer(stop_words=stop_words)\n",
    "X_train_counts = vectorizer.fit_transform(X_train)\n",
    "X_test_counts = vectorizer.transform(X_test)\n",
    "\n",
    "\n",
    "# create TF-IDF features\n",
    "from sklearn.feature_extraction.text import TfidfTransformer\n",
    "\n",
    "tfidf_transformer = TfidfTransformer()\n",
    "xtrain_tfidf = tfidf_transformer.fit_transform(X_train_counts)\n",
    "\n",
    "\n",
    "print(train.shape)\n",
    "print(test.shape)"
   ]
  },
  {
   "cell_type": "code",
   "execution_count": 4,
   "metadata": {
    "hideCode": false,
    "hidePrompt": true
   },
   "outputs": [
    {
     "name": "stdout",
     "output_type": "stream",
     "text": [
      "Precision :  [0.6870748299319728]\n",
      "Accuracy :  [0.848786972416085]\n",
      "Recall :  [0.8159306622351026]\n",
      "F1-Score :  [0.8294258477955121]\n",
      "model :  ['Naive Bayes']\n"
     ]
    },
    {
     "data": {
      "image/png": "[encoded data removed]",
      "text/plain": [
       "<Figure size 288x288 with 1 Axes>"
      ]
     },
     "metadata": {},
     "output_type": "display_data"
    }
   ],
   "source": [
    "from sklearn.metrics import confusion_matrix, accuracy_score,precision_score,f1_score,recall_score\n",
    "\n",
    "nb_classifier = MultinomialNB(alpha=0.9)\n",
    "nb_classifier.fit(xtrain_tfidf,y_train)\n",
    "y_pred_nb = nb_classifier.predict(X_test_counts)\n",
    "\n",
    "\n",
    "\n",
    "conf_mat_nb = confusion_matrix(y_test,y_pred_nb)\n",
    "\n",
    "TN = conf_mat_nb[0][0]\n",
    "TP = conf_mat_nb[1][1]\n",
    "total = conf_mat_nb[0][0]+conf_mat_nb[0][1]+conf_mat_nb[1][0]+conf_mat_nb[1][1]\n",
    "FP = conf_mat_nb[0][1]\n",
    "FN = conf_mat_nb[1][0]\n",
    "\n",
    "\n",
    "\n",
    "\n",
    "precision_nb = conf_mat_nb[0][0]/(conf_mat_nb[0][0]+FP)\n",
    "\n",
    "accuracy_nb = (TP + TN)/total\n",
    "#precision_nb = precision_score(y_test,y_pred_nb,average=\"macro\")\n",
    "recall_nb = recall_score(y_test, y_pred_nb, average='macro')\n",
    "f1_nb =  f1_score(y_test,y_pred_nb,average=\"macro\")\n",
    "\n",
    "\n",
    "\n",
    "\n",
    "\n",
    "\n",
    "\n",
    "\n",
    "precesion.append(precision_nb)\n",
    "accuracy.append(accuracy_nb)\n",
    "recal.append(recall_nb)\n",
    "f1.append(f1_nb)\n",
    "model.append('Naive Bayes')\n",
    "\n",
    "\n",
    "\n",
    "\n",
    "\n",
    "\n",
    "\n",
    "\n",
    "print(\"Precision : \",precesion)\n",
    "print(\"Accuracy : \",accuracy)\n",
    "print(\"Recall : \",recal)\n",
    "print(\"F1-Score : \",f1)\n",
    "print(\"model : \",model)\n",
    "\n",
    "\n",
    "import pandas as pd\n",
    "import seaborn as sn\n",
    "from pylab import savefig\n",
    "\n",
    "data1 = {'y_Actual':    y_test,\n",
    "         'y_Predicted': y_pred_nb\n",
    "        }\n",
    "\n",
    "df = pd.DataFrame(data1, columns=['y_Actual','y_Predicted'])\n",
    "confusion_matrix = pd.crosstab(df['y_Actual'], df['y_Predicted'], rownames=['Actual'], colnames=['Predicted'])\n",
    "\n",
    "sn.set(rc={'figure.figsize':(4,4)})\n",
    "ax = sn.heatmap(confusion_matrix, annot=True,cbar=False,fmt='g',cmap=\"Blues\")\n",
    "ax.set_title('Confusion matrix for Naive bayes')\n",
    "ax.set_ylabel('Actual Label')\n",
    "ax.set_xlabel('Predicted Label')\n",
    "\n",
    "plt.savefig('nb_conf.png')"
   ]
  },
  {
   "cell_type": "code",
   "execution_count": 5,
   "metadata": {
    "hideCode": true,
    "hidePrompt": true
   },
   "outputs": [
    {
     "name": "stdout",
     "output_type": "stream",
     "text": [
      "AUC: 0.92\n"
     ]
    },
    {
     "data": {
      "image/png": "[encoded data removed]",
      "text/plain": [
       "<Figure size 288x288 with 1 Axes>"
      ]
     },
     "metadata": {},
     "output_type": "display_data"
    }
   ],
   "source": [
    "from sklearn.metrics import roc_auc_score,roc_curve\n",
    "prob = nb_classifier.predict_proba(X_test_counts)\n",
    "\n",
    "probs = prob[:,1]\n",
    "auc = roc_auc_score(y_test, probs)\n",
    "print('AUC: %.2f' % auc)\n",
    "\n",
    "\n",
    "def plot_roc_curve(fpr, tpr):\n",
    "    plt.plot(fpr, tpr, color='orange', label='ROC')\n",
    "    plt.plot([0, 1], [0, 1], color='darkblue', linestyle='--')\n",
    "    plt.xlabel('False Positive Rate')\n",
    "    plt.ylabel('True Positive Rate')\n",
    "    plt.title('Receiver Operating Characteristic (ROC) Curve')\n",
    "    plt.legend()\n",
    "    plt.show()\n",
    "    \n",
    "    \n",
    "fpr, tpr, thresholds = roc_curve(y_test, probs,pos_label='Positive')\n",
    "plot_roc_curve(fpr, tpr)"
   ]
  },
  {
   "cell_type": "code",
   "execution_count": 6,
   "metadata": {
    "hideCode": true,
    "hidePrompt": true
   },
   "outputs": [
    {
     "data": {
      "text/plain": [
       "4        Positive\n",
       "6        Positive\n",
       "10       Positive\n",
       "13       Positive\n",
       "14       Positive\n",
       "16       Positive\n",
       "19       Positive\n",
       "23       Positive\n",
       "26       Positive\n",
       "30       Positive\n",
       "36       Positive\n",
       "38       Positive\n",
       "39       Positive\n",
       "42       Positive\n",
       "44       Positive\n",
       "48       Positive\n",
       "52       Positive\n",
       "63       Positive\n",
       "64       Positive\n",
       "66       Positive\n",
       "68       Positive\n",
       "69       Positive\n",
       "70       Positive\n",
       "72       Positive\n",
       "73       Positive\n",
       "79       Positive\n",
       "80       Positive\n",
       "81       Positive\n",
       "86       Positive\n",
       "87       Positive\n",
       "           ...   \n",
       "79890    Negative\n",
       "79893    Negative\n",
       "79894    Negative\n",
       "79895    Negative\n",
       "79897    Negative\n",
       "79904    Negative\n",
       "79906    Negative\n",
       "79921    Negative\n",
       "79930    Negative\n",
       "79943    Negative\n",
       "79945    Negative\n",
       "79947    Negative\n",
       "79953    Negative\n",
       "79954    Negative\n",
       "79955    Negative\n",
       "79956    Negative\n",
       "79958    Negative\n",
       "79959    Negative\n",
       "79960    Negative\n",
       "79965    Negative\n",
       "79967    Negative\n",
       "79970    Negative\n",
       "79977    Negative\n",
       "79978    Negative\n",
       "79979    Negative\n",
       "79982    Negative\n",
       "79986    Negative\n",
       "79988    Negative\n",
       "79994    Negative\n",
       "79997    Negative\n",
       "Name: label, Length: 24072, dtype: object"
      ]
     },
     "execution_count": 6,
     "metadata": {},
     "output_type": "execute_result"
    }
   ],
   "source": [
    "y_test"
   ]
  },
  {
   "cell_type": "markdown",
   "metadata": {
    "hideCode": true,
    "hidePrompt": true
   },
   "source": [
    "# Different Alpha values"
   ]
  },
  {
   "cell_type": "markdown",
   "metadata": {
    "hideCode": true,
    "hidePrompt": true
   },
   "source": [
    "from sklearn.metrics import confusion_matrix, accuracy_score,precision_score,f1_score\n",
    "r = np.arange(0, 1, 0.01)\n",
    "pp = []\n",
    "err = []\n",
    "recall_f = []\n",
    "f1Score = []\n",
    "\n",
    "for i in r:\n",
    "    nb_classifier = MultinomialNB(alpha=i)\n",
    "    nb_classifier.fit(xtrain_tfidf,y_train)\n",
    "    y_pred_nb = nb_classifier.predict(X_test_counts)\n",
    "    conf_mat_nb = confusion_matrix(y_test,y_pred_nb)\n",
    "    \n",
    "    FP = conf_mat_nb[0][1]\n",
    "    FN = conf_mat_nb[1][0]\n",
    "    total = conf_mat_nb[0][0]+conf_mat_nb[0][1]+conf_mat_nb[1][0]+conf_mat_nb[1][1]\n",
    "    error = ((FP+FN)/total) * 100\n",
    "    precision_rf = conf_mat_nb[0][0]/(conf_mat_nb[0][0]+FP)\n",
    "    recall_rf = conf_mat_nb[0][0]/(conf_mat_nb[0][0]+FN)\n",
    "    f1_rf= f1_score(y_test,y_pred_nb,average=\"macro\")\n",
    "    \n",
    "    pp.append(precision_rf)\n",
    "    err.append(error)\n",
    "    recall_f.append(recall_rf)\n",
    "    f1Score.append(f1_rf)\n",
    "    \n",
    "\n",
    "\n",
    "column_names = ['precision','recall','f1','error','alpha']\n",
    "mydf = pd.DataFrame(columns = column_names)\n",
    "mydf['precision'] = pp\n",
    "mydf['error'] = err\n",
    "mydf['recall'] = recall_f\n",
    "mydf['alpha'] = r\n",
    "mydf['f1'] = f1Score\n"
   ]
  },
  {
   "cell_type": "markdown",
   "metadata": {
    "hideCode": true,
    "hidePrompt": true
   },
   "source": [
    "mydf[['error']].idxmin()\n"
   ]
  },
  {
   "cell_type": "markdown",
   "metadata": {
    "hideCode": true,
    "hidePrompt": true
   },
   "source": [
    "mydf.iloc[10,:]"
   ]
  },
  {
   "cell_type": "markdown",
   "metadata": {
    "hideCode": true,
    "hidePrompt": true
   },
   "source": [
    "# Implementation of Linear Svm"
   ]
  },
  {
   "cell_type": "code",
   "execution_count": 7,
   "metadata": {
    "hideCode": false,
    "hidePrompt": true
   },
   "outputs": [
    {
     "name": "stdout",
     "output_type": "stream",
     "text": [
      "Precision :  0.8612786154281132\n",
      "Accuracy :  0.8651545363908275\n",
      "Recall :  0.8470087773009476\n",
      "F1-Score :  0.8530377059037013\n",
      "Precision :  [0.6870748299319728, 0.8612786154281132]\n",
      "Accuracy :  [0.848786972416085, 0.8651545363908275]\n",
      "Recall :  [0.8159306622351026, 0.8470087773009476]\n",
      "F1-Score :  [0.8294258477955121, 0.8530377059037013]\n",
      "model :  ['Naive Bayes', 'SVM']\n"
     ]
    }
   ],
   "source": [
    "\n",
    "from sklearn.metrics import confusion_matrix, accuracy_score,precision_score,f1_score,recall_score\n",
    "\n",
    "\n",
    "from sklearn.svm import LinearSVC\n",
    "svm_classifier = LinearSVC()\n",
    "svm_classifier.fit(xtrain_tfidf,y_train)\n",
    "\n",
    "y_pred_svm = svm_classifier.predict(X_test_counts)\n",
    "\n",
    "\n",
    "\n",
    "\n",
    "\n",
    "from sklearn.metrics import confusion_matrix, accuracy_score,precision_score\n",
    "conf_mat_svm = confusion_matrix(y_test,y_pred_svm)\n",
    "accuracy_svm = accuracy_score(y_test,y_pred_svm)\n",
    "\n",
    "accuracy_svm = accuracy_score(y_test,y_pred_svm)\n",
    "precision_svm = precision_score(y_test,y_pred_svm,average=\"macro\")\n",
    "recall_svm = recall_score(y_test, y_pred_svm, average='macro')\n",
    "f1_svm =  f1_score(y_test,y_pred_svm,average=\"macro\")\n",
    "\n",
    "precesion.append(precision_svm)\n",
    "accuracy.append(accuracy_svm)\n",
    "recal.append(recall_svm)\n",
    "f1.append(f1_svm)\n",
    "model.append('SVM')\n",
    "\n",
    "\n",
    "\n",
    "print(\"Precision : \",precision_svm)\n",
    "print(\"Accuracy : \",accuracy_svm)\n",
    "print(\"Recall : \",recall_svm)\n",
    "print(\"F1-Score : \",f1_svm)\n",
    "\n",
    "\n",
    "print(\"Precision : \",precesion)\n",
    "print(\"Accuracy : \",accuracy)\n",
    "print(\"Recall : \",recal)\n",
    "print(\"F1-Score : \",f1)\n",
    "print(\"model : \",model)\n"
   ]
  },
  {
   "cell_type": "code",
   "execution_count": 8,
   "metadata": {
    "hideCode": false,
    "hidePrompt": true
   },
   "outputs": [
    {
     "data": {
      "image/png": "[encoded data removed]",
      "text/plain": [
       "<Figure size 288x288 with 1 Axes>"
      ]
     },
     "metadata": {},
     "output_type": "display_data"
    }
   ],
   "source": [
    "import pandas as pd\n",
    "import seaborn as sn\n",
    "data2 = {'y_Actual':    y_test,\n",
    "        'y_Predicted': y_pred_svm\n",
    "        }\n",
    "\n",
    "df = pd.DataFrame(data2, columns=['y_Actual','y_Predicted'])\n",
    "confusion_matrix = pd.crosstab(df['y_Actual'], df['y_Predicted'], rownames=['Actual'], colnames=['Predicted'])\n",
    "\n",
    "sn.set(rc={'figure.figsize':(4,4)})\n",
    "ax = sn.heatmap(confusion_matrix, annot=True,cbar=False,fmt='g',cmap=\"Blues\")\n",
    "ax.set_title('Confusion matrix for SVM')\n",
    "ax.set_ylabel('Actual Label')\n",
    "ax.set_xlabel('Predicted Label')\n",
    "\n",
    "plt.savefig('svm_conf.png')"
   ]
  },
  {
   "cell_type": "code",
   "execution_count": 10,
   "metadata": {
    "hideCode": false,
    "hidePrompt": true
   },
   "outputs": [
    {
     "data": {
      "text/html": [
       "<div>\n",
       "<style scoped>\n",
       "    .dataframe tbody tr th:only-of-type {\n",
       "        vertical-align: middle;\n",
       "    }\n",
       "\n",
       "    .dataframe tbody tr th {\n",
       "        vertical-align: top;\n",
       "    }\n",
       "\n",
       "    .dataframe thead th {\n",
       "        text-align: right;\n",
       "    }\n",
       "</style>\n",
       "<table border=\"1\" class=\"dataframe\">\n",
       "  <thead>\n",
       "    <tr style=\"text-align: right;\">\n",
       "      <th></th>\n",
       "      <th>model</th>\n",
       "      <th>precision</th>\n",
       "      <th>recall</th>\n",
       "      <th>f1-score</th>\n",
       "      <th>accuracy</th>\n",
       "    </tr>\n",
       "  </thead>\n",
       "  <tbody>\n",
       "    <tr>\n",
       "      <th>0</th>\n",
       "      <td>Naive Bayes</td>\n",
       "      <td>68.707483</td>\n",
       "      <td>81.593066</td>\n",
       "      <td>82.942585</td>\n",
       "      <td>84.878697</td>\n",
       "    </tr>\n",
       "    <tr>\n",
       "      <th>1</th>\n",
       "      <td>SVM</td>\n",
       "      <td>86.127862</td>\n",
       "      <td>84.700878</td>\n",
       "      <td>85.303771</td>\n",
       "      <td>86.515454</td>\n",
       "    </tr>\n",
       "  </tbody>\n",
       "</table>\n",
       "</div>"
      ],
      "text/plain": [
       "         model  precision     recall   f1-score   accuracy\n",
       "0  Naive Bayes  68.707483  81.593066  82.942585  84.878697\n",
       "1          SVM  86.127862  84.700878  85.303771  86.515454"
      ]
     },
     "execution_count": 10,
     "metadata": {},
     "output_type": "execute_result"
    }
   ],
   "source": [
    "column_names = ['model','precision','recall','f1-score','accuracy']\n",
    "result = pd.DataFrame(columns = column_names)\n",
    "result['precision'] = [100 * i for i in precesion] \n",
    "result['model'] = model \n",
    "result['recall'] = [100 * i for i in recal] \n",
    "result['f1-score'] = [100 * i for i in f1] \n",
    "result['accuracy'] = [100 * i for i in accuracy] \n",
    "result"
   ]
  }
 ],
 "metadata": {
  "celltoolbar": "Hide code",
  "hide_code_all_hidden": true,
  "kernelspec": {
   "display_name": "Python 3",
   "language": "python",
   "name": "python3"
  },
  "language_info": {
   "codemirror_mode": {
    "name": "ipython",
    "version": 3
   },
   "file_extension": ".py",
   "mimetype": "text/x-python",
   "name": "python",
   "nbconvert_exporter": "python",
   "pygments_lexer": "ipython3",
   "version": "3.7.3"
  }
 },
 "nbformat": 4,
 "nbformat_minor": 2
}
